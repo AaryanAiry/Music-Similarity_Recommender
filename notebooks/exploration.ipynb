{
 "cells": [
  {
   "cell_type": "code",
   "execution_count": null,
   "id": "00db1e51",
   "metadata": {
    "vscode": {
     "languageId": "plaintext"
    }
   },
   "outputs": [],
   "source": [
    "import pandas as pd\n",
    "import matplotlib.pyplot as plt\n",
    "import seaborn as sns\n",
    "\n",
    "# Load processed dataset\n",
    "df = pd.read_csv(\"../data/processed/spotify_tracks_clean.csv\")\n",
    "\n",
    "# Show first few rows\n",
    "df.head()"
   ]
  },
  {
   "cell_type": "code",
   "execution_count": null,
   "id": "071e7ba0",
   "metadata": {
    "vscode": {
     "languageId": "plaintext"
    }
   },
   "outputs": [],
   "source": [
    "print(\"Dataset shape:\", df.shape)\n",
    "print(\"Columns:\", df.columns.tolist())\n",
    "print(\"\\nMissing values per column:\")\n",
    "print(df.isna().sum())"
   ]
  },
  {
   "cell_type": "code",
   "execution_count": null,
   "id": "94852b18",
   "metadata": {
    "vscode": {
     "languageId": "plaintext"
    }
   },
   "outputs": [],
   "source": [
    "top_n = 20\n",
    "genre_counts = df[\"track_genre\"].value_counts().head(top_n)\n",
    "\n",
    "plt.figure(figsize=(10,6))\n",
    "sns.barplot(x=genre_counts.values, y=genre_counts.index, palette=\"rocket\")\n",
    "plt.title(f\"Top {top_n} Genres by Track Count\")\n",
    "plt.xlabel(\"Number of Tracks\")\n",
    "plt.ylabel(\"Genre\")\n",
    "plt.show()"
   ]
  },
  {
   "cell_type": "code",
   "execution_count": null,
   "id": "ddd70e1f",
   "metadata": {
    "vscode": {
     "languageId": "plaintext"
    }
   },
   "outputs": [],
   "source": [
    "# ---------------------------\n",
    "# 4️⃣ Average Popularity Over Time\n",
    "# ---------------------------\n",
    "# Use the correct column: 'year'\n",
    "plt.figure(figsize=(12,6))\n",
    "df.groupby(\"year\")[\"popularity\"].mean().plot()\n",
    "plt.title(\"Average Popularity of Tracks Over Time\")\n",
    "plt.xlabel(\"Year\")\n",
    "plt.ylabel(\"Popularity\")\n",
    "plt.show()\n"
   ]
  },
  {
   "cell_type": "code",
   "execution_count": null,
   "id": "f986c663",
   "metadata": {
    "vscode": {
     "languageId": "plaintext"
    }
   },
   "outputs": [],
   "source": [
    "features = [\n",
    "    \"danceability\", \"energy\", \"valence\", \"tempo\",\n",
    "    \"loudness\", \"speechiness\", \"acousticness\",\n",
    "    \"instrumentalness\", \"liveness\"\n",
    "]\n",
    "\n",
    "avg_features = df.groupby(\"track_genre\")[features].mean().sort_values(\"danceability\", ascending=False)\n",
    "avg_features.head(10)\n"
   ]
  },
  {
   "cell_type": "code",
   "execution_count": null,
   "id": "679eeb9b",
   "metadata": {
    "vscode": {
     "languageId": "plaintext"
    }
   },
   "outputs": [],
   "source": [
    "# Bar plot: Top 10 genres by danceability\n",
    "top_feature_n = 10\n",
    "top_danceability = avg_features.head(top_feature_n)\n",
    "\n",
    "sns.barplot(\n",
    "    x=\"danceability\", \n",
    "    y=top_danceability.index, \n",
    "    data=top_danceability,\n",
    "    palette=\"viridis\"\n",
    ")\n",
    "plt.title(f\"Top {top_feature_n} Genres by Average Danceability\")\n",
    "plt.xlabel(\"Average Danceability\")\n",
    "plt.ylabel(\"Genre\")\n",
    "plt.show()\n"
   ]
  },
  {
   "cell_type": "code",
   "execution_count": null,
   "id": "d99956b6",
   "metadata": {
    "vscode": {
     "languageId": "plaintext"
    }
   },
   "outputs": [],
   "source": [
    "\n",
    "# Example: Average danceability per year\n",
    "feature = \"danceability\"\n",
    "avg_per_year = df.groupby(\"year\")[feature].mean().reset_index()\n",
    "\n",
    "sns.lineplot(x=\"year\", y=feature, data=avg_per_year)\n",
    "plt.title(f\"Average {feature.capitalize()} Over Time\")\n",
    "plt.xlabel(\"Year\")\n",
    "plt.ylabel(feature.capitalize())\n",
    "plt.show()\n"
   ]
  },
  {
   "cell_type": "code",
   "execution_count": null,
   "id": "1b8058b7-c784-42f3-8bf0-33834315e71b",
   "metadata": {},
   "outputs": [],
   "source": [
    "# Example: Average energy per year\n",
    "feature = \"energy\"\n",
    "avg_per_year = df.groupby(\"year\")[feature].mean().reset_index()\n",
    "\n",
    "sns.lineplot(x=\"year\", y=feature, data=avg_per_year)\n",
    "plt.title(f\"Average {feature.capitalize()} Over Time\")\n",
    "plt.xlabel(\"Year\")\n",
    "plt.ylabel(feature.capitalize())\n",
    "plt.show()\n"
   ]
  },
  {
   "cell_type": "code",
   "execution_count": null,
   "id": "a7503da2-1dac-41e0-ba6a-fa76a326ed6c",
   "metadata": {},
   "outputs": [],
   "source": []
  }
 ],
 "metadata": {
  "kernelspec": {
   "display_name": "DAEEH Env",
   "language": "python",
   "name": "daeeh_env"
  },
  "language_info": {
   "codemirror_mode": {
    "name": "ipython",
    "version": 3
   },
   "file_extension": ".py",
   "mimetype": "text/x-python",
   "name": "python",
   "nbconvert_exporter": "python",
   "pygments_lexer": "ipython3",
   "version": "3.13.7"
  }
 },
 "nbformat": 4,
 "nbformat_minor": 5
}
